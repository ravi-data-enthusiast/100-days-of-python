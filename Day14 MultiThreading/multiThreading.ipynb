{
  "nbformat": 4,
  "nbformat_minor": 0,
  "metadata": {
    "colab": {
      "provenance": []
    },
    "kernelspec": {
      "name": "python3",
      "display_name": "Python 3"
    },
    "language_info": {
      "name": "python"
    }
  },
  "cells": [
    {
      "cell_type": "code",
      "execution_count": 1,
      "metadata": {
        "id": "k-g2Up1wRol1",
        "outputId": "a42c78cf-cbd2-4e7a-e16b-ad20a16df3a8",
        "colab": {
          "base_uri": "https://localhost:8080/"
        }
      },
      "outputs": [
        {
          "output_type": "stream",
          "name": "stdout",
          "text": [
            "Number:1\n",
            "Number:2\n",
            "Number:3\n",
            "Number:4\n",
            "Number:5\n",
            "Letter:A\n",
            "Letter:B\n",
            "Letter:C\n",
            "Letter:D\n",
            "Letter:E\n",
            "Letter:F\n",
            "22.025879859924316\n"
          ]
        }
      ],
      "source": [
        "import threading\n",
        "import time\n",
        "\n",
        "def printNumbers():\n",
        "    for i in range(1, 6):\n",
        "      time.sleep(2) #there can be any IO operations here, the progrzm here will be waiting to get IO done\n",
        "      print(f\"Number:{i}\")\n",
        "def printLetters():\n",
        "    for i in range(65, 71):\n",
        "      time.sleep(2)\n",
        "      print(f\"Letter:{chr(i)}\")\n",
        "\n",
        "t = time.time()\n",
        "printNumbers()\n",
        "printLetters()\n",
        "print(time.time() - t)"
      ]
    },
    {
      "cell_type": "code",
      "source": [
        "import threading\n",
        "import time\n",
        "\n",
        "def printNumbers():\n",
        "    for i in range(1, 6):\n",
        "      time.sleep(2) #Why can't I allow the below code to be executed, when this function is in sleep state?\n",
        "      print(f\"Number:{i}\")\n",
        "\n",
        "def printLetters():\n",
        "    for i in range(65, 71):\n",
        "      time.sleep(2)\n",
        "      print(f\"Letter:{chr(i)}\")\n",
        "\n",
        "'''To make a parallel exceution, I created two threads one thread will be\n",
        "responsible for printNumbers and other thread responsible for printLetters'''\n",
        "\n",
        "t1 = threading.Thread(target=printNumbers) #t1 is responsible for executing printNumbers\n",
        "t2 = threading.Thread(target=printLetters) #t2 is responsible for executing printLetters\n",
        "\n",
        "t = time.time()\n",
        "\n",
        "#start the thread\n",
        "t1.start()\n",
        "t2.start()\n",
        "\n",
        "#wait for threads to complete\n",
        "t1.join()\n",
        "t2.join()\n",
        "\n",
        "#once the execution is done, both threads are joined to main thread\n",
        "\n",
        "print(time.time() - t)"
      ],
      "metadata": {
        "colab": {
          "base_uri": "https://localhost:8080/"
        },
        "id": "FlG2P_rlrXBp",
        "outputId": "26288690-f37e-4caf-f065-4ce43c38ba2a"
      },
      "execution_count": 2,
      "outputs": [
        {
          "output_type": "stream",
          "name": "stdout",
          "text": [
            "Number:1\n",
            "Letter:A\n",
            "Number:2Letter:B\n",
            "\n",
            "Letter:C\n",
            "Number:3\n",
            "Letter:DNumber:4\n",
            "\n",
            "Letter:ENumber:5\n",
            "\n",
            "Letter:F\n",
            "12.015487909317017\n"
          ]
        }
      ]
    }
  ]
}