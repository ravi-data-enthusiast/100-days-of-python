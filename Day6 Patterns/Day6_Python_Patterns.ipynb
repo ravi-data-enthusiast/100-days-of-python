{
  "nbformat": 4,
  "nbformat_minor": 0,
  "metadata": {
    "colab": {
      "provenance": []
    },
    "kernelspec": {
      "name": "python3",
      "display_name": "Python 3"
    },
    "language_info": {
      "name": "python"
    }
  },
  "cells": [
    {
      "cell_type": "code",
      "execution_count": 2,
      "metadata": {
        "colab": {
          "base_uri": "https://localhost:8080/"
        },
        "id": "FmXcHzUv4Xlr",
        "outputId": "4ed00aaf-5b51-494b-913b-e9172a484fe2"
      },
      "outputs": [
        {
          "output_type": "stream",
          "name": "stdout",
          "text": [
            "1 2 3 4 5 \n",
            "1 2 3 4 \n",
            "1 2 3 \n",
            "1 2 \n",
            "1 \n"
          ]
        }
      ],
      "source": [
        "def patterns(nLevels):\n",
        "  for i in range(nLevels,0,-1):\n",
        "    for j in range(1,nLevels+1):\n",
        "      print(j, end = \" \")\n",
        "    nLevels -= 1\n",
        "    print()\n",
        "\n",
        "\n",
        "patterns(5)"
      ]
    },
    {
      "cell_type": "code",
      "source": [
        "def decPatterns(nLevels):\n",
        "  for i in range(1,nLevels+1):\n",
        "    for j in range(1,i+1):\n",
        "      print(j, end = \" \")\n",
        "    print()\n",
        "\n",
        "\n",
        "decPatterns(5)"
      ],
      "metadata": {
        "colab": {
          "base_uri": "https://localhost:8080/"
        },
        "id": "Yk7KwRz_55IK",
        "outputId": "e454688e-8f32-4b23-8b33-2d17dba21ee7"
      },
      "execution_count": 3,
      "outputs": [
        {
          "output_type": "stream",
          "name": "stdout",
          "text": [
            "1 \n",
            "1 2 \n",
            "1 2 3 \n",
            "1 2 3 4 \n",
            "1 2 3 4 5 \n"
          ]
        }
      ]
    },
    {
      "cell_type": "code",
      "source": [],
      "metadata": {
        "id": "phZp7yhy59v3"
      },
      "execution_count": null,
      "outputs": []
    },
    {
      "cell_type": "code",
      "source": [],
      "metadata": {
        "id": "rWAvlbz2595L"
      },
      "execution_count": null,
      "outputs": []
    },
    {
      "cell_type": "code",
      "source": [],
      "metadata": {
        "id": "zWZVJDRs59nK"
      },
      "execution_count": null,
      "outputs": []
    }
  ]
}