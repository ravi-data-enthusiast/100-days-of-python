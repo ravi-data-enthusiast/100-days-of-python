{
  "nbformat": 4,
  "nbformat_minor": 0,
  "metadata": {
    "colab": {
      "provenance": []
    },
    "kernelspec": {
      "name": "python3",
      "display_name": "Python 3"
    },
    "language_info": {
      "name": "python"
    }
  },
  "cells": [
    {
      "cell_type": "markdown",
      "source": [
        "###Multiprocessing involves running multiple processes concurrently, each with its own memory space. Each process runs independently and in parallel on different CPU cores. Processes do not share memory space, which avoids issues related to data consistency and race conditions. However, inter-process communication (IPC) can be more complex and slower compared to threads."
      ],
      "metadata": {
        "id": "e5LJlNtl3HNg"
      }
    },
    {
      "cell_type": "code",
      "execution_count": null,
      "metadata": {
        "colab": {
          "base_uri": "https://localhost:8080/"
        },
        "id": "xoaFONNTy0hk",
        "outputId": "af52907e-bdc4-4d6e-9b33-70b6f134f9c5"
      },
      "outputs": [
        {
          "output_type": "stream",
          "name": "stdout",
          "text": [
            "Square of 0 is 0\n",
            "Cube of 0 is 0\n",
            "Square of 1 is 1\n",
            "Cube of 1 is 1Square of 2 is 4\n",
            "\n",
            "Square of 3 is 9\n",
            "Cube of 2 is 8\n",
            "Square of 4 is 16\n",
            "Cube of 3 is 27\n",
            "Square of 5 is 25\n",
            "Cube of 4 is 64\n",
            "Cube of 5 is 125\n",
            "Time taken: 9.075824737548828\n"
          ]
        }
      ],
      "source": [
        "import multiprocessing\n",
        "import time\n",
        "\n",
        "def squareNum():\n",
        "  for i in range(6):\n",
        "    time.sleep(1)\n",
        "    print(f\"Square of {i} is {i**2}\")\n",
        "\n",
        "def cubeNum():\n",
        "  for i in range(6):\n",
        "    time.sleep(1.5)\n",
        "    print(f\"Cube of {i} is {i**3}\")\n",
        "\n",
        "\n",
        "if __name__ == \"__main__\":\n",
        "\n",
        "  # create 2 processes\n",
        "  p1 = multiprocessing.Process(target=squareNum)\n",
        "  p2 = multiprocessing.Process(target=cubeNum)\n",
        "\n",
        "  t = time.time()\n",
        "  #start the process\n",
        "  p1.start()\n",
        "  p2.start()\n",
        "\n",
        "  #wait for the process to complete\n",
        "  p1.join()\n",
        "  p2.join()\n",
        "\n",
        "  print(\"Time taken:\", time.time()-t)"
      ]
    },
    {
      "cell_type": "markdown",
      "source": [
        "Multi Processing with help of process pool executor"
      ],
      "metadata": {
        "id": "WZRmAhSsNGeY"
      }
    },
    {
      "cell_type": "code",
      "source": [
        "from concurrent.futures import ProcessPoolExecutor\n",
        "import time\n",
        "\n",
        "def squareNum(number):\n",
        "  time.sleep(1)\n",
        "  return f\"Square of {number} is {number**2}\"\n",
        "\n",
        "numbers = [1,2,3,4,5,6,8,9,101,11]\n",
        "\n",
        "if __name__ == \"__main__\":\n",
        "\n",
        "  with ProcessPoolExecutor(max_workers = 3) as executor:\n",
        "    results = executor.map(squareNum, numbers)\n",
        "\n",
        "  for result in results:\n",
        "    print(result)"
      ],
      "metadata": {
        "colab": {
          "base_uri": "https://localhost:8080/"
        },
        "id": "wi2RAqKpNCLo",
        "outputId": "692f0aac-cd63-42d4-869f-c53622d192e7"
      },
      "execution_count": 10,
      "outputs": [
        {
          "output_type": "stream",
          "name": "stdout",
          "text": [
            "Square of 1 is 1\n",
            "Square of 2 is 4\n",
            "Square of 3 is 9\n",
            "Square of 4 is 16\n",
            "Square of 5 is 25\n",
            "Square of 6 is 36\n",
            "Square of 8 is 64\n",
            "Square of 9 is 81\n",
            "Square of 101 is 10201\n",
            "Square of 11 is 121\n"
          ]
        }
      ]
    },
    {
      "cell_type": "markdown",
      "source": [
        "ProcessPoolExecutor provides true parallelism by running processes on multiple CPU cores, bypassing the GIL and making full use of the available processing power."
      ],
      "metadata": {
        "id": "_INY-qcJQ_g_"
      }
    }
  ]
}